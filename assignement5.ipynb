{
  "nbformat": 4,
  "nbformat_minor": 0,
  "metadata": {
    "colab": {
      "name": "assignement5.ipynb",
      "provenance": [],
      "collapsed_sections": [],
      "authorship_tag": "ABX9TyMMjZUaEwlXmBb1BTInruBJ",
      "include_colab_link": true
    },
    "kernelspec": {
      "name": "python3",
      "display_name": "Python 3"
    }
  },
  "cells": [
    {
      "cell_type": "markdown",
      "metadata": {
        "id": "view-in-github",
        "colab_type": "text"
      },
      "source": [
        "<a href=\"https://colab.research.google.com/github/princy-yy/PYTHON-ASSIGNMENT/blob/main/assignement5.ipynb\" target=\"_parent\"><img src=\"https://colab.research.google.com/assets/colab-badge.svg\" alt=\"Open In Colab\"/></a>"
      ]
    },
    {
      "cell_type": "code",
      "metadata": {
        "colab": {
          "base_uri": "https://localhost:8080/"
        },
        "id": "fRl8xDANdDbA",
        "outputId": "19a9a3e6-12fb-45bd-89e6-dfd829e188be"
      },
      "source": [
        "\"\"\"\r\n",
        "Problem Statement:\r\n",
        "Write a function to compute 5/0 and use try/except to catch the exceptions.\r\n",
        "\"\"\"\r\n",
        "\r\n",
        "def div_by_zero():\r\n",
        " return 5/0\r\n",
        "\r\n",
        "\r\n",
        "try:\r\n",
        " div_by_zero()\r\n",
        "except ZeroDivisionError as e:\r\n",
        " print(\"Handle run-time 'div by 0'error:\", e)"
      ],
      "execution_count": 1,
      "outputs": [
        {
          "output_type": "stream",
          "text": [
            "Handle run-time 'div by 0'error: division by zero\n"
          ],
          "name": "stdout"
        }
      ]
    }
  ]
}