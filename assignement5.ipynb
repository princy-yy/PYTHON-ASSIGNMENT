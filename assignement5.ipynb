{
  "nbformat": 4,
  "nbformat_minor": 0,
  "metadata": {
    "colab": {
      "name": "assignement5.ipynb",
      "provenance": [],
      "collapsed_sections": [],
      "authorship_tag": "ABX9TyMhlKcEDcP/UuDXh2LMoH6T",
      "include_colab_link": true
    },
    "kernelspec": {
      "name": "python3",
      "display_name": "Python 3"
    }
  },
  "cells": [
    {
      "cell_type": "markdown",
      "metadata": {
        "id": "view-in-github",
        "colab_type": "text"
      },
      "source": [
        "<a href=\"https://colab.research.google.com/github/princy-yy/PYTHON-ASSIGNMENT/blob/main/assignement5.ipynb\" target=\"_parent\"><img src=\"https://colab.research.google.com/assets/colab-badge.svg\" alt=\"Open In Colab\"/></a>"
      ]
    },
    {
      "cell_type": "code",
      "metadata": {
        "colab": {
          "base_uri": "https://localhost:8080/"
        },
        "id": "fRl8xDANdDbA",
        "outputId": "19a9a3e6-12fb-45bd-89e6-dfd829e188be"
      },
      "source": [
        "\"\"\"\r\n",
        "Problem Statement:\r\n",
        "Write a function to compute 5/0 and use try/except to catch the exceptions.\r\n",
        "\"\"\"\r\n",
        "\r\n",
        "def div_by_zero():\r\n",
        " return 5/0\r\n",
        "\r\n",
        "\r\n",
        "try:\r\n",
        " div_by_zero()\r\n",
        "except ZeroDivisionError as e:\r\n",
        " print(\"Handle run-time 'div by 0'error:\", e)"
      ],
      "execution_count": 1,
      "outputs": [
        {
          "output_type": "stream",
          "text": [
            "Handle run-time 'div by 0'error: division by zero\n"
          ],
          "name": "stdout"
        }
      ]
    },
    {
      "cell_type": "code",
      "metadata": {
        "colab": {
          "base_uri": "https://localhost:8080/"
        },
        "id": "gS6GKKgxfNCi",
        "outputId": "e6253c99-0523-4164-a01b-404d71f1afd5"
      },
      "source": [
        "\"\"\"\r\n",
        "Problem Statement​ ​1:\r\n",
        "Implement a Python program to generate all sentences where subject is in\r\n",
        "[\"Americans\", \"Indians\"] and verb is in [\"Play\", \"watch\"] and the object is in\r\n",
        "[\"Baseball\",\"cricket\"].\r\n",
        "Hint: Subject,Verb and Object should be declared in the program as shown below.\r\n",
        "subjects=[\"Americans \",\"Indians\"]\r\n",
        "verbs=[\"play\",\"watch\"]\r\n",
        "objects=[\"Baseball\",\"Cricket\"]\r\n",
        "Output should come as below:\r\n",
        "Americans play Baseball.\r\n",
        "Americans play Cricket.\r\n",
        "Americans watch Baseball.\r\n",
        "Americans watch Cricket.\r\n",
        "Indians play Baseball.\r\n",
        "Indians play Cricket.\r\n",
        "Indians watch Baseball.\r\n",
        "Indians watch Cricket.\r\n",
        "\"\"\"\r\n",
        "\r\n",
        "subject=[\"Americans\", \"Indians\"]\r\n",
        "verb=[\"Play\", \"watch\"]\r\n",
        "obj=[\"Baseball\",\"cricket\"]\r\n",
        "\r\n",
        "# Use list comprehension instead of looping over each of the predicates\r\n",
        "sentence_list = [(sub+\" \"+ vb + \" \" + ob) for sub in subject for vb in verb for ob in obj]\r\n",
        "for sentence in sentence_list:\r\n",
        " print (sentence)\r\n"
      ],
      "execution_count": 2,
      "outputs": [
        {
          "output_type": "stream",
          "text": [
            "Americans Play Baseball\n",
            "Americans Play cricket\n",
            "Americans watch Baseball\n",
            "Americans watch cricket\n",
            "Indians Play Baseball\n",
            "Indians Play cricket\n",
            "Indians watch Baseball\n",
            "Indians watch cricket\n"
          ],
          "name": "stdout"
        }
      ]
    }
  ]
}