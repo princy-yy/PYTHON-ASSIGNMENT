{
  "nbformat": 4,
  "nbformat_minor": 0,
  "metadata": {
    "colab": {
      "name": "Untitled0.ipynb",
      "provenance": [],
      "authorship_tag": "ABX9TyMD/dFtCvUKCws5zLvM0xxs",
      "include_colab_link": true
    },
    "kernelspec": {
      "name": "python3",
      "display_name": "Python 3"
    }
  },
  "cells": [
    {
      "cell_type": "markdown",
      "metadata": {
        "id": "view-in-github",
        "colab_type": "text"
      },
      "source": [
        "<a href=\"https://colab.research.google.com/github/princy-yy/PYTHON-ASSIGNMENT/blob/main/Untitled0.ipynb\" target=\"_parent\"><img src=\"https://colab.research.google.com/assets/colab-badge.svg\" alt=\"Open In Colab\"/></a>"
      ]
    },
    {
      "cell_type": "code",
      "metadata": {
        "colab": {
          "base_uri": "https://localhost:8080/"
        },
        "id": "TeDBgpkmphwJ",
        "outputId": "244245c0-4fe2-4e9e-c8b4-369a61c8cac5"
      },
      "source": [
        "nl=[]\n",
        "for x in range(2000, 3500):\n",
        "    if (x%7==0) and (x%5==0):\n",
        "        nl.append(str(x))\n",
        "print (','.join(nl))"
      ],
      "execution_count": null,
      "outputs": [
        {
          "output_type": "stream",
          "text": [
            "2030,2065,2100,2135,2170,2205,2240,2275,2310,2345,2380,2415,2450,2485,2520,2555,2590,2625,2660,2695,2730,2765,2800,2835,2870,2905,2940,2975,3010,3045,3080,3115,3150,3185,3220,3255,3290,3325,3360,3395,3430,3465\n"
          ],
          "name": "stdout"
        }
      ]
    },
    {
      "cell_type": "code",
      "metadata": {
        "id": "EjZgGxA8p0uW",
        "colab": {
          "base_uri": "https://localhost:8080/"
        },
        "outputId": "282a168f-1ddc-4a2d-ecf4-ac6670a08992"
      },
      "source": [
        "first_name = input(\"Input your First Name : \")\r\n",
        "last_name = input(\"Input your Last Name : \")\r\n",
        "print ( last_name + \" \" + first_name)"
      ],
      "execution_count": 3,
      "outputs": [
        {
          "output_type": "stream",
          "text": [
            "Input your First Name : princy\n",
            "Input your Last Name : tripathi\n",
            "tripathi princy\n"
          ],
          "name": "stdout"
        }
      ]
    },
    {
      "cell_type": "code",
      "metadata": {
        "colab": {
          "base_uri": "https://localhost:8080/"
        },
        "id": "_U3ndvrYreoL",
        "outputId": "7f55a5ab-19ba-42ec-fc40-6bd2f2dac4ac"
      },
      "source": [
        "import math\r\n",
        "pi = math.pi\r\n",
        "r=float(12/2)\r\n",
        "Volume = (float(4/3)*(pi)*(r)**3)\r\n",
        "print(Volume)\r\n"
      ],
      "execution_count": 4,
      "outputs": [
        {
          "output_type": "stream",
          "text": [
            "904.7786842338603\n"
          ],
          "name": "stdout"
        }
      ]
    },
    {
      "cell_type": "code",
      "metadata": {
        "id": "tKL4W09wr_QL"
      },
      "source": [
        ""
      ],
      "execution_count": null,
      "outputs": []
    }
  ]
}