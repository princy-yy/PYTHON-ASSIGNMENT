{
  "nbformat": 4,
  "nbformat_minor": 0,
  "metadata": {
    "colab": {
      "name": "assignement4.ipynb",
      "provenance": [],
      "collapsed_sections": [],
      "authorship_tag": "ABX9TyNah+0I/jL8CqZJD7cH8gDZ",
      "include_colab_link": true
    },
    "kernelspec": {
      "name": "python3",
      "display_name": "Python 3"
    }
  },
  "cells": [
    {
      "cell_type": "markdown",
      "metadata": {
        "id": "view-in-github",
        "colab_type": "text"
      },
      "source": [
        "<a href=\"https://colab.research.google.com/github/princy-yy/PYTHON-ASSIGNMENT/blob/main/assignement4.ipynb\" target=\"_parent\"><img src=\"https://colab.research.google.com/assets/colab-badge.svg\" alt=\"Open In Colab\"/></a>"
      ]
    },
    {
      "cell_type": "code",
      "metadata": {
        "colab": {
          "base_uri": "https://localhost:8080/"
        },
        "id": "4ULGUkynayOO",
        "outputId": "dcb836ad-32ab-430d-eed4-5d7ea65a688e"
      },
      "source": [
        "\"\"\"\r\n",
        "Problem Statement​ ​1.1:\r\n",
        "Write a Python Program(with class concepts) to find the area of the triangle using the below\r\n",
        "formula.\r\n",
        "area = (s*(s-a)*(s-b)*(s-c)) ** 0.5\r\n",
        "problem statement 1.2\r\n",
        "Function to take the length of the sides of triangle from user should be defined in the parent\r\n",
        "class and function to calculate the area should be defined in subclass.\r\n",
        "\"\"\"\r\n",
        "\r\n",
        "class Triangle:\r\n",
        " def __init__(self, side1, side2, side3):\r\n",
        "  self.side1 = side1\r\n",
        "  self.side2 = side2\r\n",
        "  self.side3 = side3\r\n",
        "  print (\"Initialised Triagle super class [\" +  str(side1) + \",\" + str(side2) + \",\" + str(side3) + \"]\")\r\n",
        "\r\n",
        "class Triangle_Utilities(Triangle):\r\n",
        " \r\n",
        " def __init__(self, side1, side2, side3):\r\n",
        "  print (\"Initialised Utils Child class\" )\r\n",
        "  super(Triangle_Utilities, self).__init__(side1, side2, side3)\r\n",
        "\r\n",
        " def get_area(self):\r\n",
        "  s = (self.side1 + self.side2 + self.side3)/2\r\n",
        "  print (str(s))\r\n",
        "  return (s*(s-self.side1)*(s-self.side2)*(s-self.side3))**0.5\r\n",
        "\r\n",
        "instance = Triangle_Utilities(3,4,5)\r\n",
        "print (\"Area of triangle = \" + str(instance.get_area()) )"
      ],
      "execution_count": 1,
      "outputs": [
        {
          "output_type": "stream",
          "text": [
            "Initialised Utils Child class\n",
            "Initialised Triagle super class [3,4,5]\n",
            "6.0\n",
            "Area of triangle = 6.0\n"
          ],
          "name": "stdout"
        }
      ]
    },
    {
      "cell_type": "code",
      "metadata": {
        "colab": {
          "base_uri": "https://localhost:8080/"
        },
        "id": "bopkdiS0a7Op",
        "outputId": "8b9884a9-1857-4f0f-e3a9-4273d90a3e0a"
      },
      "source": [
        "\"\"\"\r\n",
        "Problem Statement​ ​2.1:\r\n",
        "Write a Python function which takes a character (i.e. a string of length 1) and returns True if it is\r\n",
        "a vowel, False otherwise.\r\n",
        "\"\"\"\r\n",
        "# FUnction to check char is vowel and return True/False\r\n",
        "def vowel_check(char):\r\n",
        " if(char == 'a' or char == 'e' or char == 'i' or char == 'o' or char == 'u'):\r\n",
        "  return True\r\n",
        " else:\r\n",
        "  return False\r\n",
        "\r\n",
        "# Take user input\r\n",
        "char = input(\"Enter character: \");\r\n",
        "\r\n",
        "# If Invalid input, exit\r\n",
        "if (char.isalpha() == False):\r\n",
        " exit();\r\n",
        "\r\n",
        "# Invoke function\r\n",
        "if (vowel_check(char)):\r\n",
        " print(char, \"is a vowel.\");\r\n",
        "else:\r\n",
        " print(char, \"is not a vowel.\"); "
      ],
      "execution_count": 4,
      "outputs": [
        {
          "output_type": "stream",
          "text": [
            "Enter character: i\n",
            "i is a vowel.\n"
          ],
          "name": "stdout"
        }
      ]
    },
    {
      "cell_type": "code",
      "metadata": {
        "colab": {
          "base_uri": "https://localhost:8080/"
        },
        "id": "vlXDRoYMba0q",
        "outputId": "27100262-9a8b-4dfe-9149-134db91a59dc"
      },
      "source": [
        "\"\"\"\r\n",
        "Problem Statement​ ​2.2:\r\n",
        "Write a Python program using function concept that maps list of words into a list of integers\r\n",
        "representing the lengths of the corresponding words.\r\n",
        "Hint:<200b> <200b>If a list [ ab,cde,erty] is passed on to the python function output should come as [2,3,4]\r\n",
        "Here 2,3 and 4 are the lengths of the words in the list.\r\n",
        "\"\"\"\r\n",
        "\r\n",
        "wordlist = [\"This\", \"is\", \"a\", \"beautiful\", \"day\"]\r\n",
        "\r\n",
        "def wordlength(wordlist):\r\n",
        " return list(map(lambda x: len(x), wordlist))\r\n",
        "\r\n",
        "print (\"word lengths in array => \" + str(wordlength(wordlist)))"
      ],
      "execution_count": 5,
      "outputs": [
        {
          "output_type": "stream",
          "text": [
            "word lengths in array => [4, 2, 1, 9, 3]\n"
          ],
          "name": "stdout"
        }
      ]
    }
  ]
}