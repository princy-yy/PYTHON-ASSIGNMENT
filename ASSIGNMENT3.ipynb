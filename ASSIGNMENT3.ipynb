{
  "nbformat": 4,
  "nbformat_minor": 0,
  "metadata": {
    "colab": {
      "name": "ASSIGNMENT3.ipynb",
      "provenance": [],
      "collapsed_sections": [],
      "authorship_tag": "ABX9TyNdoUqURU4WLv5XKDJpfp0J",
      "include_colab_link": true
    },
    "kernelspec": {
      "name": "python3",
      "display_name": "Python 3"
    }
  },
  "cells": [
    {
      "cell_type": "markdown",
      "metadata": {
        "id": "view-in-github",
        "colab_type": "text"
      },
      "source": [
        "<a href=\"https://colab.research.google.com/github/princy-yy/PYTHON-ASSIGNMENT/blob/main/ASSIGNMENT3.ipynb\" target=\"_parent\"><img src=\"https://colab.research.google.com/assets/colab-badge.svg\" alt=\"Open In Colab\"/></a>"
      ]
    },
    {
      "cell_type": "code",
      "metadata": {
        "colab": {
          "base_uri": "https://localhost:8080/"
        },
        "id": "_t3-slR_Y1xl",
        "outputId": "2358c364-b2ef-4d83-9711-293848f1eac6"
      },
      "source": [
        "\"\"\"\r\n",
        "Implement List comprehensions to produce the following lists.\r\n",
        "Write List comprehensions to produce the following Lists\r\n",
        "['A', 'C', 'A', 'D', 'G', 'I', ’L’, ‘ D’]\r\n",
        "['x', 'xx', 'xxx', 'xxxx', 'y', 'yy', 'yyy', 'yyyy', 'z', 'zz', 'zzz', 'zzzz']\r\n",
        "['x', 'y', 'z', 'xx', 'yy', 'zz', 'xxx', 'yyy', 'zzz', 'xxxx', 'yyyy', 'zzzz']\r\n",
        "[[2], [3], [4], [3], [4], [5], [4], [5], [6]]\r\n",
        "[[2, 3, 4, 5], [3, 4, 5, 6], [4, 5, 6, 7], [5, 6, 7, 8]]\r\n",
        "[(1, 1), (2, 1), (3, 1), (1, 2), (2, 2), (3, 2), (1, 3), (2, 3), (3, 3)]\r\n",
        "\"\"\"\r\n",
        "#########\r\n",
        "word = \"ACADGILD\"\r\n",
        "alphabet_list = [ alphabet for alphabet in word ]\r\n",
        "print (\"ACADGILD => \" + str(alphabet_list))\r\n",
        "\r\n",
        "#########\r\n",
        "# Compress above for loop into a single list comprehension using technique [i <Upper for condition> <lower for condition>]\r\n",
        "input_list = ['x','y','z']\r\n",
        "result = [ item*num for item in input_list for num in range(1,5)  ]\r\n",
        "print(\"['x','y','z'] => \" +   str(result))\r\n",
        "\r\n",
        "#########\r\n",
        "# Compress above for loop into a single list comprehension using technique [i <Upper for condition> <lower for condition>]\r\n",
        "input_list = ['x','y','z']\r\n",
        "result = [ item*num for num in range(1,5) for item in input_list  ]\r\n",
        "print(\"['x','y','z'] => \" +   str(result))\r\n",
        "\r\n",
        "#########\r\n",
        "input_list = [2,3,4]\r\n",
        "result = [ [item+num] for item in input_list for num in range(0,3)]\r\n",
        "print(\"[2,3,4] =>\" +  str(result))\r\n",
        "\r\n",
        "#########\r\n",
        "input_list = [2,3,4,5]\r\n",
        "result = [ [item+num for item in input_list] for num in range(0,4)  ]\r\n",
        "print(\"[2,3,4,5] =>\" +  str(result))\r\n",
        "\r\n",
        "#########\r\n",
        "input_list=[1,2,3]\r\n",
        "result = [ (b,a) for a in input_list for b in input_list]\r\n",
        "print(\"[1,2,3] =>\" +  str(result))\r\n",
        "\r\n",
        "#########\r\n"
      ],
      "execution_count": 1,
      "outputs": [
        {
          "output_type": "stream",
          "text": [
            "ACADGILD => ['A', 'C', 'A', 'D', 'G', 'I', 'L', 'D']\n",
            "['x','y','z'] => ['x', 'xx', 'xxx', 'xxxx', 'y', 'yy', 'yyy', 'yyyy', 'z', 'zz', 'zzz', 'zzzz']\n",
            "['x','y','z'] => ['x', 'y', 'z', 'xx', 'yy', 'zz', 'xxx', 'yyy', 'zzz', 'xxxx', 'yyyy', 'zzzz']\n",
            "[2,3,4] =>[[2], [3], [4], [3], [4], [5], [4], [5], [6]]\n",
            "[2,3,4,5] =>[[2, 3, 4, 5], [3, 4, 5, 6], [4, 5, 6, 7], [5, 6, 7, 8]]\n",
            "[1,2,3] =>[(1, 1), (2, 1), (3, 1), (1, 2), (2, 2), (3, 2), (1, 3), (2, 3), (3, 3)]\n"
          ],
          "name": "stdout"
        }
      ]
    },
    {
      "cell_type": "code",
      "metadata": {
        "colab": {
          "base_uri": "https://localhost:8080/"
        },
        "id": "frZzA5EyZO__",
        "outputId": "fb60cc96-9ff7-479a-a52a-ef75025fc3da"
      },
      "source": [
        "\"\"\"\r\n",
        "Problem Statement​ ​1:\r\n",
        "Write a Python Program to implement your own myreduce() function which works exactly\r\n",
        "like Python's built-in function reduce()\r\n",
        "Problem Statement​ ​2:\r\n",
        "Write a Python program to implement your own myfilter() function which works exactly\r\n",
        "like Python's built-in function filter()\r\n",
        "\"\"\"\r\n",
        "\r\n",
        "# Reduce will produce a single result\r\n",
        "def myreduce(anyfunc, sequence):\r\n",
        "\r\n",
        " # Get first item in sequence and assign to result\r\n",
        "  result = sequence[0]\r\n",
        " # iterate over remaining items in sequence and apply reduction function \r\n",
        "  for item in sequence[1:]:\r\n",
        "   result = anyfunc(result, item)\r\n",
        "\r\n",
        "  return result\r\n",
        "\r\n",
        "\r\n",
        "# Custom filter function \r\n",
        "def myfilter(anyfunc, sequence):\r\n",
        "\r\n",
        " # Initialize empty list\r\n",
        " result = []\r\n",
        " # iterate over sequence of items in sequence and apply filter function\r\n",
        " for item in sequence:\r\n",
        "  if anyfunc(item):\r\n",
        "   result.append(item)\r\n",
        "\r\n",
        " # return funal output\r\n",
        " return result\r\n",
        "\r\n",
        "\r\n",
        "# test myreduce function\r\n",
        "def sum(x,y): return x + y\r\n",
        "\r\n",
        "# test myfilter function\r\n",
        "def ispositive(x):\r\n",
        " if (x <= 0): \r\n",
        "  return False \r\n",
        " else: \r\n",
        "  return True\r\n",
        "\r\n",
        "\r\n",
        "print (\"Sum on list [1,2,3] using custom reduce function \"   + str(myreduce(sum, [1,2,3])) )\r\n",
        "print (\"Filter only positive Integers on list [0,1,-2,3,4,5] using custom filter function\"  + str(myfilter(ispositive, [0,1,-2,3,4,5])))\r\n"
      ],
      "execution_count": 2,
      "outputs": [
        {
          "output_type": "stream",
          "text": [
            "Sum on list [1,2,3] using custom reduce function 6\n",
            "Filter only positive Integers on list [0,1,-2,3,4,5] using custom filter function[1, 3, 4, 5]\n"
          ],
          "name": "stdout"
        }
      ]
    }
  ]
}